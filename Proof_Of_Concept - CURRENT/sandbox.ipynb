{
 "cells": [
  {
   "cell_type": "code",
   "execution_count": 1,
   "metadata": {},
   "outputs": [
    {
     "name": "stdout",
     "output_type": "stream",
     "text": [
      "pygame 2.6.1 (SDL 2.28.4, Python 3.11.4)\n",
      "Hello from the pygame community. https://www.pygame.org/contribute.html\n",
      "Window 1 clicked!\n",
      "Window 2 clicked!\n"
     ]
    }
   ],
   "source": [
    "# Simulated Two Windows in Pygame\n",
    "\n",
    "import pygame\n",
    "\n",
    "# Initialize Pygame\n",
    "pygame.init()\n",
    "\n",
    "# Set window size\n",
    "WIDTH, HEIGHT = 800, 600\n",
    "screen = pygame.display.set_mode((WIDTH, HEIGHT))\n",
    "pygame.display.set_caption(\"Simulated Two Windows in Pygame\")\n",
    "\n",
    "# Define colors\n",
    "WHITE = (255, 255, 255)\n",
    "BLUE = (50, 100, 200)\n",
    "GREEN = (100, 200, 100)\n",
    "\n",
    "# Define window areas (rects)\n",
    "window1 = pygame.Rect(50, 50, 300, 400)\n",
    "window2 = pygame.Rect(450, 100, 300, 400)\n",
    "\n",
    "running = True\n",
    "while running:\n",
    "    screen.fill(WHITE)  # Clear the screen\n",
    "\n",
    "    # Draw the simulated windows\n",
    "    pygame.draw.rect(screen, BLUE, window1)\n",
    "    pygame.draw.rect(screen, GREEN, window2)\n",
    "\n",
    "    for event in pygame.event.get():\n",
    "        if event.type == pygame.QUIT:\n",
    "            running = False\n",
    "        elif event.type == pygame.MOUSEBUTTONDOWN:\n",
    "            if window1.collidepoint(event.pos):\n",
    "                print(\"Window 1 clicked!\")\n",
    "            elif window2.collidepoint(event.pos):\n",
    "                print(\"Window 2 clicked!\")\n",
    "\n",
    "    pygame.display.flip()  # Update the display\n",
    "\n",
    "pygame.quit()\n"
   ]
  },
  {
   "cell_type": "code",
   "execution_count": 1,
   "metadata": {},
   "outputs": [
    {
     "name": "stdout",
     "output_type": "stream",
     "text": [
      "pygame 2.6.1 (SDL 2.28.4, Python 3.11.4)\n",
      "Hello from the pygame community. https://www.pygame.org/contribute.html\n"
     ]
    }
   ],
   "source": [
    "# Pausing the Game Loop\n",
    "\n",
    "import pygame\n",
    "\n",
    "# Initialize pygame\n",
    "pygame.init()\n",
    "\n",
    "# Set up display\n",
    "WIDTH, HEIGHT = 800, 600\n",
    "screen = pygame.display.set_mode((WIDTH, HEIGHT))\n",
    "pygame.display.set_caption(\"Pause Game Example\")\n",
    "\n",
    "# Colors\n",
    "WHITE = (255, 255, 255)\n",
    "BLACK = (0, 0, 0)\n",
    "\n",
    "# Game loop variables\n",
    "running = True\n",
    "paused = False\n",
    "\n",
    "# Font setup\n",
    "font = pygame.font.Font(None, 36)\n",
    "\n",
    "while running:\n",
    "    for event in pygame.event.get():\n",
    "        if event.type == pygame.QUIT:\n",
    "            running = False\n",
    "\n",
    "        if event.type == pygame.MOUSEBUTTONDOWN:\n",
    "            if event.button == 3:  # Right mouse button\n",
    "                paused = not paused  # Toggle pause\n",
    "\n",
    "    if not paused:\n",
    "        # Game logic and rendering when NOT paused\n",
    "        screen.fill(WHITE)\n",
    "        text = font.render(\"Game Running\", True, BLACK)\n",
    "    else:\n",
    "        # Rendering when paused\n",
    "        screen.fill((200, 200, 200))  # Grey background to indicate pause\n",
    "        text = font.render(\"Game Paused\", True, BLACK)\n",
    "\n",
    "    # Draw text\n",
    "    screen.blit(text, (WIDTH // 2 - 80, HEIGHT // 2))\n",
    "    pygame.display.flip()\n",
    "\n",
    "pygame.quit()\n"
   ]
  }
 ],
 "metadata": {
  "kernelspec": {
   "display_name": "Python 3",
   "language": "python",
   "name": "python3"
  },
  "language_info": {
   "codemirror_mode": {
    "name": "ipython",
    "version": 3
   },
   "file_extension": ".py",
   "mimetype": "text/x-python",
   "name": "python",
   "nbconvert_exporter": "python",
   "pygments_lexer": "ipython3",
   "version": "3.11.4"
  }
 },
 "nbformat": 4,
 "nbformat_minor": 2
}
