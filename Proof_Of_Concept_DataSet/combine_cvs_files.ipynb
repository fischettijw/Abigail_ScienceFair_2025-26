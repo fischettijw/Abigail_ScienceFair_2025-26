{
 "cells": [
  {
   "cell_type": "code",
   "execution_count": null,
   "id": "b69177e7",
   "metadata": {},
   "outputs": [],
   "source": [
    "import pandas as pd\n",
    "import glob\n",
    "\n",
    "# Get list of CSV files in a directory\n",
    "csv_files = glob.glob(\"*.csv\")\n",
    "\n",
    "print(csv_files)\n",
    "\n",
    "# Load the first CSV to capture column names\n",
    "combined_df = pd.read_csv(csv_files[0])\n",
    "\n",
    "# Loop through the rest, skipping their headers\n",
    "for file in csv_files[1:]:\n",
    "    df = pd.read_csv(file)\n",
    "    combined_df = pd.concat([combined_df, df], ignore_index=True)\n",
    "\n",
    "# Save to a new CSV\n",
    "combined_df.to_csv(\"combined_cvs_files.csv\", index=False)"
   ]
  },
  {
   "cell_type": "code",
   "execution_count": 1,
   "id": "ff31f7e8",
   "metadata": {},
   "outputs": [],
   "source": [
    "import pandas as pd\n",
    "import glob\n"
   ]
  },
  {
   "cell_type": "code",
   "execution_count": 2,
   "id": "e059cad3",
   "metadata": {},
   "outputs": [
    {
     "name": "stdout",
     "output_type": "stream",
     "text": [
      "['measles_dataset_20.csv', 'measles_dataset_30.csv', 'measles_dataset_40.csv', 'measles_dataset_50.csv', 'measles_dataset_60.csv', 'measles_dataset_70.csv', 'measles_dataset_80.csv', 'measles_dataset_90.csv', 'measles_dataset_95.csv']\n"
     ]
    }
   ],
   "source": [
    "# Get list of CSV files in a directory\n",
    "csv_files = glob.glob(\"*.csv\")\n",
    "\n",
    "print(csv_files)\n"
   ]
  },
  {
   "cell_type": "code",
   "execution_count": 3,
   "id": "fc172b3a",
   "metadata": {},
   "outputs": [],
   "source": [
    "# Load the first CSV to capture column names\n",
    "combined_df = pd.read_csv(csv_files[0])"
   ]
  },
  {
   "cell_type": "code",
   "execution_count": null,
   "id": "9f055caf",
   "metadata": {},
   "outputs": [],
   "source": [
    "# Loop through the rest, skipping their headers\n",
    "for file in csv_files[1:]:\n",
    "    df = pd.read_csv(file)\n",
    "    combined_df = pd.concat([combined_df, df], ignore_index=True)\n",
    "\n",
    "# Save to a new CSV\n",
    "combined_df.to_csv(\"combined_cvs_files.csv\", index=False)"
   ]
  }
 ],
 "metadata": {
  "kernelspec": {
   "display_name": "Python 3",
   "language": "python",
   "name": "python3"
  },
  "language_info": {
   "codemirror_mode": {
    "name": "ipython",
    "version": 3
   },
   "file_extension": ".py",
   "mimetype": "text/x-python",
   "name": "python",
   "nbconvert_exporter": "python",
   "pygments_lexer": "ipython3",
   "version": "3.12.4"
  }
 },
 "nbformat": 4,
 "nbformat_minor": 5
}
